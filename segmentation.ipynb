{
 "cells": [
  {
   "cell_type": "code",
   "execution_count": 10,
   "id": "057e6150",
   "metadata": {},
   "outputs": [],
   "source": [
    "import cv2\n",
    "import numpy as np\n",
    "\n",
    "# Load the image\n",
    "image = cv2.imread('1.jpg')\n",
    "\n",
    "# Convert the image to the HSV color space\n",
    "hsv_image = cv2.cvtColor(image, cv2.COLOR_BGR2HSV)\n",
    "\n",
    "# Define the lower and upper bounds for the color you want to segment\n",
    "#lower_bound = np.array([hue_min, saturation_min, value_min])\n",
    "#upper_bound = np.array([hue_max, saturation_max, value_max])\n",
    "lower_bound = np.array([0, 10, 10])  # Lower bound for red in HSV\n",
    "upper_bound = np.array([90, 150, 150])  # Upper bound for red in HSV\n",
    "\n",
    "# Create a binary mask where the color falls within the specified range\n",
    "mask = cv2.inRange(hsv_image, lower_bound, upper_bound)\n",
    "\n",
    "# Apply the mask to the original image\n",
    "segmented_image = cv2.bitwise_and(image, image, mask=mask)\n",
    "\n",
    "# Display the original image and the segmented image\n",
    "cv2.imshow('Original Image', image)\n",
    "cv2.imshow('Segmented Image', segmented_image)\n",
    "\n",
    "# Wait for a key press and then close the windows\n",
    "cv2.waitKey(0)\n",
    "cv2.destroyAllWindows()"
   ]
  },
  {
   "cell_type": "code",
   "execution_count": null,
   "id": "4eafbcb0",
   "metadata": {},
   "outputs": [],
   "source": []
  }
 ],
 "metadata": {
  "kernelspec": {
   "display_name": "Python 3",
   "language": "python",
   "name": "python3"
  },
  "language_info": {
   "codemirror_mode": {
    "name": "ipython",
    "version": 3
   },
   "file_extension": ".py",
   "mimetype": "text/x-python",
   "name": "python",
   "nbconvert_exporter": "python",
   "pygments_lexer": "ipython3",
   "version": "3.8.8"
  }
 },
 "nbformat": 4,
 "nbformat_minor": 5
}
